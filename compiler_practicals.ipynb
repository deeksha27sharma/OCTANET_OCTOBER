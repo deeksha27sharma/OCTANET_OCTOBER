{
  "nbformat": 4,
  "nbformat_minor": 0,
  "metadata": {
    "colab": {
      "provenance": [],
      "authorship_tag": "ABX9TyOZWMVmCG5uFCvQ8fpIvJLD",
      "include_colab_link": true
    },
    "kernelspec": {
      "name": "python3",
      "display_name": "Python 3"
    },
    "language_info": {
      "name": "python"
    }
  },
  "cells": [
    {
      "cell_type": "markdown",
      "metadata": {
        "id": "view-in-github",
        "colab_type": "text"
      },
      "source": [
        "<a href=\"https://colab.research.google.com/github/deeksha27sharma/OCTANET_OCTOBER/blob/main/compiler_practicals.ipynb\" target=\"_parent\"><img src=\"https://colab.research.google.com/assets/colab-badge.svg\" alt=\"Open In Colab\"/></a>"
      ]
    },
    {
      "cell_type": "code",
      "execution_count": 7,
      "metadata": {
        "colab": {
          "base_uri": "https://localhost:8080/"
        },
        "id": "K9zs329miVD8",
        "outputId": "8d4af3af-3f5f-4c97-c38b-ebfa42ed3a2e"
      },
      "outputs": [
        {
          "output_type": "stream",
          "name": "stdout",
          "text": [
            "enter the stringabindia\n",
            "accepted\n",
            "rejected\n"
          ]
        }
      ],
      "source": [
        "#for input symbol {a,b}\n",
        "string=input(\"enter the string\")\n",
        "#string that either start with ab or ends on ba\n",
        "\n",
        "if string.startswith('ab') and string.endswith('ba'):\n",
        "    print('rejected')\n",
        "\n",
        "elif string.startswith('ab') or string.endswith('ba'):\n",
        "    print('accepted')\n",
        "else:\n",
        "    print('rejected')\n",
        "\n",
        "#string length must be 4-bit,3rd right symbol is a\n",
        "\n",
        "if chr=='a' and chr=='b' and len(string)==4 and string[-3]=='a':\n",
        "    print('accepted')\n",
        "else:\n",
        "    print('rejected')\n",
        "\n",
        "\n"
      ]
    }
  ]
}